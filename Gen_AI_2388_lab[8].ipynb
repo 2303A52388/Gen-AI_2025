{
  "nbformat": 4,
  "nbformat_minor": 0,
  "metadata": {
    "colab": {
      "provenance": []
    },
    "kernelspec": {
      "name": "python3",
      "display_name": "Python 3"
    },
    "language_info": {
      "name": "python"
    }
  },
  "cells": [
    {
      "cell_type": "code",
      "execution_count": null,
      "metadata": {
        "id": "5gl63ybK3MuO"
      },
      "outputs": [],
      "source": [
        "from google.colab import drive\n",
        "drive.mount('/content/drive')\n",
        "\n",
        "import pandas as pd\n",
        "from sklearn.model_selection import train_test_split\n",
        "from sklearn.preprocessing import StandardScaler\n",
        "from tensorflow.keras.models import Sequential\n",
        "from tensorflow.keras.layers import Dense\n",
        "from sklearn.metrics import confusion_matrix, classification_report\n",
        "from google.colab import drive\n",
        "\n",
        "# Load dataset from Google Drive\n",
        "data_path = '/content/drive/MyDrive/BTECH/2nd Year/4th Sem/LAB/Generative AI/winequality-red.csv'\n",
        "data = pd.read_csv(data_path)\n",
        "\n",
        "# Prepare input and output variables\n",
        "X = data.drop('quality', axis=1)\n",
        "y = data['quality']\n",
        "\n",
        "# Normalize the input data\n",
        "scaler = StandardScaler()\n",
        "X_scaled = scaler.fit_transform(X)\n",
        "\n",
        "# Train-test split\n",
        "X_train, X_test, y_train, y_test = train_test_split(X_scaled, y, test_size=0.2, random_state=42)\n",
        "\n",
        "# Build the ANN model\n",
        "model = Sequential([\n",
        "    Dense(16, activation='relu', input_dim=X_train.shape[1]),\n",
        "    Dense(20, activation='relu'),\n",
        "    Dense(25, activation='relu'),\n",
        "    Dense(10, activation='relu'),\n",
        "    Dense(1, activation='linear')  # Linear activation for regression\n",
        "])\n",
        "\n",
        "# Compile the model\n",
        "model.compile(optimizer='adadelta', loss='mean_squared_error', metrics=['mae'])\n",
        "\n",
        "# Train the model\n",
        "model.fit(X_train, y_train, epochs=100, batch_size=64, validation_split=0.2)\n",
        "\n",
        "# Save the model\n",
        "model.save('/content/drive/MyDrive/BTECH/2nd Year/4th Sem/LAB/Generative AI/winequality-red.keras')\n"
      ]
    },
    {
      "cell_type": "code",
      "source": [
        "# Make predictions\n",
        "y_pred = model.predict(X_test)\n",
        "y_pred_classes = [round(pred[0]) for pred in y_pred]  # Adjust as needed for classification\n",
        "\n",
        "# Confusion matrix and classification report\n",
        "conf_matrix = confusion_matrix(y_test, y_pred_classes)\n",
        "print(\"Confusion Matrix:\\n\", conf_matrix)\n",
        "print(\"Classification Report:\\n\", classification_report(y_test, y_pred_classes))\n"
      ],
      "metadata": {
        "id": "iTMvtEj63P6W"
      },
      "execution_count": null,
      "outputs": []
    },
    {
      "cell_type": "code",
      "source": [
        "from tensorflow.keras.models import load_model\n",
        "\n",
        "# Load the saved model\n",
        "data = pd.read_csv(data_path)\n",
        "loaded_model = load_model('/content/drive/MyDrive/BTECH/2nd Year/4th Sem/LAB/Generative AI/winequality-red.keras')\n",
        "\n",
        "# Predict new inputs\n",
        "def predict_new_quality(input_features):\n",
        "    scaled_features = scaler.transform([input_features])\n",
        "    prediction = loaded_model.predict(scaled_features)\n",
        "    return prediction[0][0]  # Adjust as needed"
      ],
      "metadata": {
        "id": "10lt6VOH3Qg4"
      },
      "execution_count": null,
      "outputs": []
    }
  ]
}