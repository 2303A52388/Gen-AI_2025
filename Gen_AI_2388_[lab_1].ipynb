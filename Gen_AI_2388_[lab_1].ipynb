{
  "nbformat": 4,
  "nbformat_minor": 0,
  "metadata": {
    "colab": {
      "provenance": []
    },
    "kernelspec": {
      "name": "python3",
      "display_name": "Python 3"
    },
    "language_info": {
      "name": "python"
    }
  },
  "cells": [
    {
      "cell_type": "markdown",
      "source": [
        "Write Python code from scratch to find error metrics of deep learning model. Actual\n",
        "values and deep learning model predicted values are shown in Table 1. Also compare the results\n",
        "with the outcomes of libraries\n",
        "YActual YPred\n",
        "20 20.5\n",
        "30 30.3\n",
        "40 40.2\n",
        "50 50.6\n",
        "60 60.7\n",
        "Tabela 1: YActual Vs. YPred\n"
      ],
      "metadata": {
        "id": "gmK3u96HhUmE"
      }
    },
    {
      "cell_type": "code",
      "execution_count": null,
      "metadata": {
        "colab": {
          "base_uri": "https://localhost:8080/"
        },
        "id": "ALfRLa_CgiE5",
        "outputId": "3698ba3e-295c-4aee-ff2b-c4d8bcc54840"
      },
      "outputs": [
        {
          "output_type": "stream",
          "name": "stdout",
          "text": [
            "MSE: 0.24600000000000147\n",
            "MAE: 0.4600000000000016\n",
            "RMSE: 0.49598387070549127\n"
          ]
        }
      ],
      "source": [
        "def mean_squared_error(y_true, y_pred):\n",
        "    n = len(y_true)\n",
        "    mse = sum((y_true[i] - y_pred[i]) ** 2 for i in range(n)) / n\n",
        "    return mse\n",
        "\n",
        "def mean_absolute_error(y_true, y_pred):\n",
        "    n = len(y_true)\n",
        "    mae = sum(abs(y_true[i] - y_pred[i]) for i in range(n)) / n\n",
        "    return mae\n",
        "\n",
        "def root_mean_squared_error(y_true, y_pred):\n",
        "    mse = mean_squared_error(y_true, y_pred)\n",
        "    rmse = mse ** 0.5\n",
        "    return rmse\n",
        "\n",
        "# Example usage:\n",
        "y_true = [20,30,40,50,60]\n",
        "y_pred = [20.5,30.3,40.2,50.6,60.7]\n",
        "\n",
        "print(\"MSE:\", mean_squared_error(y_true, y_pred))\n",
        "print(\"MAE:\", mean_absolute_error(y_true, y_pred))\n",
        "print(\"RMSE:\", root_mean_squared_error(y_true, y_pred))"
      ]
    },
    {
      "cell_type": "markdown",
      "source": [],
      "metadata": {
        "id": "tZgzn-xpnMsk"
      }
    },
    {
      "cell_type": "code",
      "source": [
        "def accuracy(y_actual, y_pred):\n",
        "    correct = sum(1 for i in range(len(y_actual)) if y_actual[i] == y_pred[i])\n",
        "    return correct / len(y_actual)\n",
        "\n",
        "def precision(y_actual, y_pred, class_label):\n",
        "    true_positives = sum(1 for i in range(len(y_actual)) if y_actual[i] == y_pred[i] == class_label)\n",
        "    predicted_positives = sum(1 for i in range(len(y_actual)) if y_pred[i] == class_label)\n",
        "    if predicted_positives == 0:\n",
        "        return 0\n",
        "    return true_positives / predicted_positives\n",
        "\n",
        "def recall(y_actual, y_pred, class_label):\n",
        "    true_positives = sum(1 for i in range(len(y_actual)) if y_actual[i] == y_pred[i] == class_label)\n",
        "    actual_positives = sum(1 for i in range(len(y_actual)) if y_actual[i] == class_label)\n",
        "    if actual_positives == 0:\n",
        "        return 0\n",
        "    return true_positives / actual_positives\n",
        "\n",
        "def f1_score(precision, recall):\n",
        "    if precision + recall == 0:\n",
        "        return 0\n",
        "    return 2 * (precision * recall) / (precision + recall)\n",
        "\n",
        "y_actual = [0, 0, 0, 0, 0]\n",
        "y_pred = [0, 0, 1, 2, 2]\n",
        "\n",
        "print(\"Accuracy:\", accuracy(y_actual, y_pred))\n",
        "print(\"Precision:\", precision)\n",
        "print(\"Recall :\", recall)\n",
        "print(\"F1-Score:\", f1)\n"
      ],
      "metadata": {
        "colab": {
          "base_uri": "https://localhost:8080/"
        },
        "id": "agzDox-knL6L",
        "outputId": "d60b270f-7a10-4fa4-833c-d25f01f3a5b4"
      },
      "execution_count": null,
      "outputs": [
        {
          "output_type": "stream",
          "name": "stdout",
          "text": [
            "Accuracy: 0.4\n",
            "Precision: 0.8333333333333334\n",
            "Recall : 0.7142857142857143\n",
            "F1-Score: 0.7692307692307692\n"
          ]
        }
      ]
    }
  ]
}