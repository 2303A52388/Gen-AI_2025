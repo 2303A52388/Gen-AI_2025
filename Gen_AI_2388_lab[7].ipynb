{
  "nbformat": 4,
  "nbformat_minor": 0,
  "metadata": {
    "colab": {
      "provenance": []
    },
    "kernelspec": {
      "name": "python3",
      "display_name": "Python 3"
    },
    "language_info": {
      "name": "python"
    }
  },
  "cells": [
    {
      "cell_type": "code",
      "execution_count": null,
      "metadata": {
        "id": "yxS502Ua2lHa"
      },
      "outputs": [],
      "source": [
        "from google.colab import drive\n",
        "drive.mount('/content/drive')\n",
        "\n",
        "import numpy as np\n",
        "import pandas as pd\n",
        "from sklearn.model_selection import train_test_split\n",
        "from sklearn.preprocessing import StandardScaler\n",
        "from tensorflow.keras.models import Sequential\n",
        "from tensorflow.keras.layers import Dense\n",
        "from tensorflow.keras.optimizers import Adam\n",
        "\n",
        "# Load the dataset from Google Drive\n",
        "data = pd.read_csv(\"/content/drive/MyDrive/BTECH/2nd Year/4th Sem/LAB/Generative AI/diabetes.csv\")\n",
        "\n",
        "# Split data into features and target\n",
        "X = data.iloc[:, :-1].values\n",
        "y = data.iloc[:, -1].values\n",
        "\n",
        "# Split data into training and testing sets\n",
        "X_train, X_test, y_train, y_test = train_test_split(X, y, test_size=0.2, random_state=42)\n",
        "\n",
        "# Feature scaling\n",
        "scaler = StandardScaler()\n",
        "X_train = scaler.fit_transform(X_train)\n",
        "X_test = scaler.transform(X_test)\n",
        "\n",
        "# Build the ANN model\n",
        "model = Sequential([\n",
        "    Dense(10, activation='tanh', input_shape=(X_train.shape[1],)),\n",
        "    Dense(15, activation='tanh'),\n",
        "    Dense(20, activation='tanh'),\n",
        "    Dense(10, activation='tanh'),\n",
        "    Dense(5, activation='tanh'),\n",
        "    Dense(1, activation='sigmoid')\n",
        "])\n",
        "\n",
        "# Compile the model\n",
        "model.compile(optimizer=Adam(), loss='binary_crossentropy', metrics=['accuracy'])\n",
        "\n",
        "# Train the model\n",
        "history = model.fit(X_train, y_train, epochs=250, batch_size=32, validation_split=0.1, verbose=1)\n",
        "\n",
        "# Save the model\n",
        "model.save('diabetes_ann_model.h5')"
      ]
    },
    {
      "cell_type": "code",
      "source": [
        "#Model Evaluation\n",
        "from sklearn.metrics import confusion_matrix, accuracy_score, precision_score, recall_score, f1_score\n",
        "\n",
        "# Load the saved model\n",
        "from tensorflow.keras.models import load_model\n",
        "model = load_model('diabetes_ann_model.h5')\n",
        "\n",
        "# Predict on the test set\n",
        "y_pred_prob = model.predict(X_test)\n",
        "y_pred = (y_pred_prob > 0.5).astype(int)\n",
        "\n",
        "# Calculate metrics\n",
        "accuracy = accuracy_score(y_test, y_pred)\n",
        "conf_matrix = confusion_matrix(y_test, y_pred)\n",
        "precision = precision_score(y_test, y_pred)\n",
        "recall = recall_score(y_test, y_pred)\n",
        "f1 = f1_score(y_test, y_pred)\n",
        "\n",
        "print(f'Accuracy: {accuracy:.4f}')\n",
        "print('Confusion Matrix:')\n",
        "print(conf_matrix)\n",
        "print(f'Precision: {precision:.4f}')\n",
        "print(f'Recall: {recall:.4f}')\n",
        "print(f'F1 Score: {f1:.4f}')"
      ],
      "metadata": {
        "id": "9R42upCL26c-"
      },
      "execution_count": null,
      "outputs": []
    },
    {
      "cell_type": "code",
      "source": [
        "# Load the saved model\n",
        "from tensorflow.keras.models import load_model\n",
        "model = load_model('diabetes_ann_model.h5')\n",
        "\n",
        "# Function to make predictions on new data\n",
        "def predict_diabetes(input_data):\n",
        "    # Assuming input_data is a NumPy array of shape (n_samples, n_features)\n",
        "    input_data_scaled = scaler.transform(input_data)\n",
        "    predictions_prob = model.predict(input_data_scaled)\n",
        "    predictions = (predictions_prob > 0.5).astype(int)\n",
        "    return predictions\n",
        "\n",
        "# Example usage\n",
        "new_data = np.array([[6, 148, 72, 35, 0, 33.6, 0.627, 50]])\n",
        "prediction = predict_diabetes(new_data)\n",
        "print('Diabetes Prediction:', 'Positive' if prediction[0][0] == 1 else 'Negative')"
      ],
      "metadata": {
        "id": "OyHqtDD-27VK"
      },
      "execution_count": null,
      "outputs": []
    }
  ]
}